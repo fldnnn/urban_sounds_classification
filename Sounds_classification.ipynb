{
  "nbformat": 4,
  "nbformat_minor": 0,
  "metadata": {
    "colab": {
      "provenance": [],
      "collapsed_sections": [],
      "mount_file_id": "1PldLdN0uV9CSQ4aGciSRT0abiH44PUrg",
      "authorship_tag": "ABX9TyOkvDMVIeL+Set9h7M7zJ00"
    },
    "kernelspec": {
      "name": "python3",
      "display_name": "Python 3"
    },
    "language_info": {
      "name": "python"
    },
    "accelerator": "GPU"
  },
  "cells": [
    {
      "cell_type": "code",
      "execution_count": 2,
      "metadata": {
        "id": "TmgOFK-42lfO"
      },
      "outputs": [],
      "source": [
        "import pickle"
      ]
    },
    {
      "cell_type": "code",
      "source": [
        "X_test = pickle.load(open(\"/content/drive/MyDrive/sounds_CNN/X_test.pickle\", \"rb\"))\n",
        "y_test = pickle.load(open(\"/content/drive/MyDrive/sounds_CNN/y_test.pickle\", \"rb\"))\n",
        "\n",
        "X_train = pickle.load(open(\"/content/drive/MyDrive/sounds_CNN/X_train.pickle\", \"rb\"))\n",
        "y_train = pickle.load(open(\"/content/drive/MyDrive/sounds_CNN/y_train.pickle\", \"rb\"))\n",
        "\n",
        "X_val = pickle.load(open(\"/content/drive/MyDrive/sounds_CNN/X_val.pickle\", \"rb\"))\n",
        "y_val = pickle.load(open(\"/content/drive/MyDrive/sounds_CNN/y_val.pickle\", \"rb\"))"
      ],
      "metadata": {
        "id": "Yce72VeI8gPV"
      },
      "execution_count": 3,
      "outputs": []
    },
    {
      "cell_type": "code",
      "source": [
        "import tensorflow as tf\n",
        "from tensorflow.keras.models import Sequential\n",
        "from tensorflow.keras.layers import Dense, Dropout, Activation, Flatten\n",
        "from tensorflow.keras.optimizers import Adam\n",
        "from tensorflow.keras.callbacks import ModelCheckpoint\n",
        "from sklearn import metrics\n",
        "from tensorflow.keras.models import Sequential\n",
        "from tensorflow.keras.layers import Conv2D, Flatten, Dense, MaxPool2D, Dropout\n",
        "from tensorflow.keras.utils import to_categorical "
      ],
      "metadata": {
        "id": "G52XRe6r-J_j"
      },
      "execution_count": 4,
      "outputs": []
    },
    {
      "cell_type": "code",
      "source": [
        "model = Sequential()\n",
        "model.add(Dense(100, input_shape=(128, 128, 3), activation='relu'))\n",
        "model.add(Dense(100, activation='relu'))# Input shape from n in n_mfcc\n",
        "model.add(Dropout(0.2))\n",
        "\n",
        "model.add(Dense(200, activation='relu'))\n",
        "model.add(Dense(200, activation='relu'))\n",
        "model.add(Dropout(0.2))\n",
        "\n",
        "model.add(Dense(100, activation='relu'))\n",
        "model.add(Dense(200, activation='relu'))\n",
        "model.add(Dropout(0.2))\n",
        "model.add(Flatten())\n",
        "model.add(Dense(10, activation='softmax'))\n",
        "\n"
      ],
      "metadata": {
        "id": "R2XpmQ9d-gwc"
      },
      "execution_count": 20,
      "outputs": []
    },
    {
      "cell_type": "code",
      "source": [
        "model.summary()"
      ],
      "metadata": {
        "colab": {
          "base_uri": "https://localhost:8080/"
        },
        "id": "oJ1clRu9AHC-",
        "outputId": "c5b3cdb1-9d9c-4b54-f038-cef09fd62c17"
      },
      "execution_count": 21,
      "outputs": [
        {
          "output_type": "stream",
          "name": "stdout",
          "text": [
            "Model: \"sequential_3\"\n",
            "_________________________________________________________________\n",
            " Layer (type)                Output Shape              Param #   \n",
            "=================================================================\n",
            " dense_21 (Dense)            (None, 128, 128, 100)     400       \n",
            "                                                                 \n",
            " dense_22 (Dense)            (None, 128, 128, 100)     10100     \n",
            "                                                                 \n",
            " dropout_9 (Dropout)         (None, 128, 128, 100)     0         \n",
            "                                                                 \n",
            " dense_23 (Dense)            (None, 128, 128, 200)     20200     \n",
            "                                                                 \n",
            " dense_24 (Dense)            (None, 128, 128, 200)     40200     \n",
            "                                                                 \n",
            " dropout_10 (Dropout)        (None, 128, 128, 200)     0         \n",
            "                                                                 \n",
            " dense_25 (Dense)            (None, 128, 128, 100)     20100     \n",
            "                                                                 \n",
            " dense_26 (Dense)            (None, 128, 128, 200)     20200     \n",
            "                                                                 \n",
            " dropout_11 (Dropout)        (None, 128, 128, 200)     0         \n",
            "                                                                 \n",
            " flatten_3 (Flatten)         (None, 3276800)           0         \n",
            "                                                                 \n",
            " dense_27 (Dense)            (None, 10)                32768010  \n",
            "                                                                 \n",
            "=================================================================\n",
            "Total params: 32,879,210\n",
            "Trainable params: 32,879,210\n",
            "Non-trainable params: 0\n",
            "_________________________________________________________________\n"
          ]
        }
      ]
    },
    {
      "cell_type": "code",
      "source": [
        "model.compile(loss='sparse_categorical_crossentropy', metrics=['accuracy'], optimizer='adam')"
      ],
      "metadata": {
        "id": "-ZBUf3sIAQV3"
      },
      "execution_count": 25,
      "outputs": []
    },
    {
      "cell_type": "code",
      "source": [
        "num_epochs = 10\n",
        "num_batch_size = 32\n",
        "\n",
        "checkpointer = ModelCheckpoint(filepath='saved_models/weights.best.basic_mlp.hdf5', verbose=1, save_best_only=True)\n",
        "model.fit(X_train,y_train, batch_size = num_batch_size, epochs = num_epochs, validation_split=0.2, callbacks=[checkpointer])\n"
      ],
      "metadata": {
        "colab": {
          "base_uri": "https://localhost:8080/"
        },
        "id": "j35bdjvsAUDl",
        "outputId": "d0ffb5f1-ce45-4070-bd47-6b6818fedd0d"
      },
      "execution_count": null,
      "outputs": [
        {
          "output_type": "stream",
          "name": "stdout",
          "text": [
            "Epoch 1/10\n",
            "40/40 [==============================] - ETA: 0s - loss: 1.9604 - accuracy: 0.4563\n",
            "Epoch 1: val_loss improved from inf to 1.27213, saving model to saved_models/weights.best.basic_mlp.hdf5\n",
            "40/40 [==============================] - 18s 431ms/step - loss: 1.9604 - accuracy: 0.4563 - val_loss: 1.2721 - val_accuracy: 0.5750\n",
            "Epoch 2/10\n",
            "40/40 [==============================] - ETA: 0s - loss: 0.9073 - accuracy: 0.7164\n",
            "Epoch 2: val_loss improved from 1.27213 to 0.95379, saving model to saved_models/weights.best.basic_mlp.hdf5\n",
            "40/40 [==============================] - 17s 427ms/step - loss: 0.9073 - accuracy: 0.7164 - val_loss: 0.9538 - val_accuracy: 0.7125\n",
            "Epoch 3/10\n",
            "40/40 [==============================] - ETA: 0s - loss: 0.5256 - accuracy: 0.8602\n",
            "Epoch 3: val_loss did not improve from 0.95379\n",
            "40/40 [==============================] - 16s 399ms/step - loss: 0.5256 - accuracy: 0.8602 - val_loss: 1.2961 - val_accuracy: 0.6969\n",
            "Epoch 4/10\n",
            "40/40 [==============================] - ETA: 0s - loss: 0.3564 - accuracy: 0.9109\n",
            "Epoch 4: val_loss did not improve from 0.95379\n",
            "40/40 [==============================] - 16s 397ms/step - loss: 0.3564 - accuracy: 0.9109 - val_loss: 1.2115 - val_accuracy: 0.6656\n",
            "Epoch 5/10\n",
            "40/40 [==============================] - ETA: 0s - loss: 0.2542 - accuracy: 0.9297\n",
            "Epoch 5: val_loss did not improve from 0.95379\n",
            "40/40 [==============================] - 16s 394ms/step - loss: 0.2542 - accuracy: 0.9297 - val_loss: 1.2563 - val_accuracy: 0.7281\n",
            "Epoch 6/10\n",
            "40/40 [==============================] - ETA: 0s - loss: 0.1415 - accuracy: 0.9609\n",
            "Epoch 6: val_loss did not improve from 0.95379\n",
            "40/40 [==============================] - 16s 395ms/step - loss: 0.1415 - accuracy: 0.9609 - val_loss: 1.4612 - val_accuracy: 0.7219\n",
            "Epoch 7/10\n",
            "40/40 [==============================] - ETA: 0s - loss: 0.0912 - accuracy: 0.9797\n",
            "Epoch 7: val_loss did not improve from 0.95379\n",
            "40/40 [==============================] - 16s 398ms/step - loss: 0.0912 - accuracy: 0.9797 - val_loss: 1.9671 - val_accuracy: 0.6938\n",
            "Epoch 8/10\n",
            "40/40 [==============================] - ETA: 0s - loss: 0.1999 - accuracy: 0.9625\n",
            "Epoch 8: val_loss did not improve from 0.95379\n",
            "40/40 [==============================] - 16s 398ms/step - loss: 0.1999 - accuracy: 0.9625 - val_loss: 1.5897 - val_accuracy: 0.6906\n",
            "Epoch 9/10\n",
            "40/40 [==============================] - ETA: 0s - loss: 0.0323 - accuracy: 0.9945\n",
            "Epoch 9: val_loss did not improve from 0.95379\n",
            "40/40 [==============================] - 16s 397ms/step - loss: 0.0323 - accuracy: 0.9945 - val_loss: 1.7058 - val_accuracy: 0.7375\n",
            "Epoch 10/10\n",
            "40/40 [==============================] - ETA: 0s - loss: 0.0097 - accuracy: 0.9992\n",
            "Epoch 10: val_loss did not improve from 0.95379\n",
            "40/40 [==============================] - 16s 397ms/step - loss: 0.0097 - accuracy: 0.9992 - val_loss: 1.9765 - val_accuracy: 0.7312\n"
          ]
        }
      ]
    },
    {
      "cell_type": "code",
      "source": [
        "model.evaluate(X_test,y_test)"
      ],
      "metadata": {
        "colab": {
          "base_uri": "https://localhost:8080/"
        },
        "id": "N_hbsgbwAbi3",
        "outputId": "6886958d-2e97-41f6-da05-d419f09c41ef"
      },
      "execution_count": 27,
      "outputs": [
        {
          "output_type": "stream",
          "name": "stdout",
          "text": [
            "7/7 [==============================] - 1s 116ms/step - loss: 2.2084 - accuracy: 0.8050\n"
          ]
        },
        {
          "output_type": "execute_result",
          "data": {
            "text/plain": [
              "[2.208380699157715, 0.8050000071525574]"
            ]
          },
          "metadata": {},
          "execution_count": 27
        }
      ]
    }
  ]
}